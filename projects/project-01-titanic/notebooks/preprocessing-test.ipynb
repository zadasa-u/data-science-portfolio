{
 "cells": [
  {
   "cell_type": "markdown",
   "id": "56c8a6f3",
   "metadata": {},
   "source": [
    "### Librerías"
   ]
  },
  {
   "cell_type": "code",
   "execution_count": null,
   "id": "42a18e41",
   "metadata": {},
   "outputs": [],
   "source": [
    "import pandas as pd\n",
    "import numpy as np\n",
    "import itertools\n",
    "import seaborn as sns\n",
    "import matplotlib.pyplot as plt\n",
    "\n",
    "from sklearn.dummy import DummyClassifier\n",
    "from sklearn.ensemble import RandomForestClassifier\n",
    "from xgboost import XGBClassifier\n",
    "from sklearn.preprocessing import LabelEncoder\n",
    "from sklearn.model_selection import train_test_split, cross_val_score\n",
    "from sklearn.metrics import accuracy_score, confusion_matrix, ConfusionMatrixDisplay"
   ]
  },
  {
   "cell_type": "code",
   "execution_count": 5,
   "id": "241ecd5c",
   "metadata": {},
   "outputs": [],
   "source": [
    "sns.set_style(\"whitegrid\")\n",
    "sns.set_palette(\"Set2\")\n",
    "plt.rcParams[\"figure.figsize\"] = (8, 3)"
   ]
  },
  {
   "cell_type": "markdown",
   "id": "6122edc4",
   "metadata": {},
   "source": [
    "### Datos de entrenamiento"
   ]
  },
  {
   "cell_type": "code",
   "execution_count": 6,
   "id": "e98c15d7",
   "metadata": {},
   "outputs": [
    {
     "data": {
      "text/html": [
       "<div>\n",
       "<style scoped>\n",
       "    .dataframe tbody tr th:only-of-type {\n",
       "        vertical-align: middle;\n",
       "    }\n",
       "\n",
       "    .dataframe tbody tr th {\n",
       "        vertical-align: top;\n",
       "    }\n",
       "\n",
       "    .dataframe thead th {\n",
       "        text-align: right;\n",
       "    }\n",
       "</style>\n",
       "<table border=\"1\" class=\"dataframe\">\n",
       "  <thead>\n",
       "    <tr style=\"text-align: right;\">\n",
       "      <th></th>\n",
       "      <th>PassengerId</th>\n",
       "      <th>Survived</th>\n",
       "      <th>Pclass</th>\n",
       "      <th>Name</th>\n",
       "      <th>Sex</th>\n",
       "      <th>Age</th>\n",
       "      <th>SibSp</th>\n",
       "      <th>Parch</th>\n",
       "      <th>Ticket</th>\n",
       "      <th>Fare</th>\n",
       "      <th>Cabin</th>\n",
       "      <th>Embarked</th>\n",
       "    </tr>\n",
       "  </thead>\n",
       "  <tbody>\n",
       "    <tr>\n",
       "      <th>0</th>\n",
       "      <td>1</td>\n",
       "      <td>0</td>\n",
       "      <td>3</td>\n",
       "      <td>Braund, Mr. Owen Harris</td>\n",
       "      <td>male</td>\n",
       "      <td>22.0</td>\n",
       "      <td>1</td>\n",
       "      <td>0</td>\n",
       "      <td>A/5 21171</td>\n",
       "      <td>7.2500</td>\n",
       "      <td>NaN</td>\n",
       "      <td>S</td>\n",
       "    </tr>\n",
       "    <tr>\n",
       "      <th>1</th>\n",
       "      <td>2</td>\n",
       "      <td>1</td>\n",
       "      <td>1</td>\n",
       "      <td>Cumings, Mrs. John Bradley (Florence Briggs Th...</td>\n",
       "      <td>female</td>\n",
       "      <td>38.0</td>\n",
       "      <td>1</td>\n",
       "      <td>0</td>\n",
       "      <td>PC 17599</td>\n",
       "      <td>71.2833</td>\n",
       "      <td>C85</td>\n",
       "      <td>C</td>\n",
       "    </tr>\n",
       "    <tr>\n",
       "      <th>2</th>\n",
       "      <td>3</td>\n",
       "      <td>1</td>\n",
       "      <td>3</td>\n",
       "      <td>Heikkinen, Miss. Laina</td>\n",
       "      <td>female</td>\n",
       "      <td>26.0</td>\n",
       "      <td>0</td>\n",
       "      <td>0</td>\n",
       "      <td>STON/O2. 3101282</td>\n",
       "      <td>7.9250</td>\n",
       "      <td>NaN</td>\n",
       "      <td>S</td>\n",
       "    </tr>\n",
       "    <tr>\n",
       "      <th>3</th>\n",
       "      <td>4</td>\n",
       "      <td>1</td>\n",
       "      <td>1</td>\n",
       "      <td>Futrelle, Mrs. Jacques Heath (Lily May Peel)</td>\n",
       "      <td>female</td>\n",
       "      <td>35.0</td>\n",
       "      <td>1</td>\n",
       "      <td>0</td>\n",
       "      <td>113803</td>\n",
       "      <td>53.1000</td>\n",
       "      <td>C123</td>\n",
       "      <td>S</td>\n",
       "    </tr>\n",
       "    <tr>\n",
       "      <th>4</th>\n",
       "      <td>5</td>\n",
       "      <td>0</td>\n",
       "      <td>3</td>\n",
       "      <td>Allen, Mr. William Henry</td>\n",
       "      <td>male</td>\n",
       "      <td>35.0</td>\n",
       "      <td>0</td>\n",
       "      <td>0</td>\n",
       "      <td>373450</td>\n",
       "      <td>8.0500</td>\n",
       "      <td>NaN</td>\n",
       "      <td>S</td>\n",
       "    </tr>\n",
       "  </tbody>\n",
       "</table>\n",
       "</div>"
      ],
      "text/plain": [
       "   PassengerId  Survived  Pclass  \\\n",
       "0            1         0       3   \n",
       "1            2         1       1   \n",
       "2            3         1       3   \n",
       "3            4         1       1   \n",
       "4            5         0       3   \n",
       "\n",
       "                                                Name     Sex   Age  SibSp  \\\n",
       "0                            Braund, Mr. Owen Harris    male  22.0      1   \n",
       "1  Cumings, Mrs. John Bradley (Florence Briggs Th...  female  38.0      1   \n",
       "2                             Heikkinen, Miss. Laina  female  26.0      0   \n",
       "3       Futrelle, Mrs. Jacques Heath (Lily May Peel)  female  35.0      1   \n",
       "4                           Allen, Mr. William Henry    male  35.0      0   \n",
       "\n",
       "   Parch            Ticket     Fare Cabin Embarked  \n",
       "0      0         A/5 21171   7.2500   NaN        S  \n",
       "1      0          PC 17599  71.2833   C85        C  \n",
       "2      0  STON/O2. 3101282   7.9250   NaN        S  \n",
       "3      0            113803  53.1000  C123        S  \n",
       "4      0            373450   8.0500   NaN        S  "
      ]
     },
     "execution_count": 6,
     "metadata": {},
     "output_type": "execute_result"
    }
   ],
   "source": [
    "df_train = pd.read_csv('../data/train.csv')\n",
    "df_train.head()"
   ]
  },
  {
   "cell_type": "markdown",
   "id": "9a841d37",
   "metadata": {},
   "source": [
    "### Baseline"
   ]
  },
  {
   "cell_type": "markdown",
   "id": "fc53d9e0",
   "metadata": {},
   "source": [
    "#### Empleando solo datos utilizables sin pre-procesamiento"
   ]
  },
  {
   "cell_type": "code",
   "execution_count": 7,
   "id": "a303edeb",
   "metadata": {},
   "outputs": [],
   "source": [
    "baseline_features = [\"Pclass\",\"Age\",\"Parch\",\"SibSp\",\"Fare\"]\n",
    "df_baseline = df_train[baseline_features]"
   ]
  },
  {
   "cell_type": "code",
   "execution_count": 8,
   "id": "9ec0ca2e",
   "metadata": {},
   "outputs": [],
   "source": [
    "X,y = df_train[baseline_features], df_train[\"Survived\"]\n",
    "X_train, X_test, y_train, y_test = train_test_split(X,y, test_size=0.3)"
   ]
  },
  {
   "cell_type": "code",
   "execution_count": 19,
   "id": "44cde058",
   "metadata": {},
   "outputs": [],
   "source": [
    "baseline_model = RandomForestClassifier(n_estimators=150, max_depth=6)\n",
    "_ = baseline_model.fit(X_train, y_train)"
   ]
  },
  {
   "cell_type": "code",
   "execution_count": 20,
   "id": "90116cba",
   "metadata": {},
   "outputs": [],
   "source": [
    "def eval_model(model, X_test, y_test, model_name=\"Model\"):\n",
    "    y_pred = (model.predict(X_test) > 0.5).astype(int)\n",
    "\n",
    "    acc = accuracy_score(y_test, y_pred)\n",
    "    print(f\"{model_name} Accuracy: {acc:.4f}\")\n",
    "\n",
    "    cm = confusion_matrix(y_test, y_pred, normalize=\"true\")\n",
    "    disp = ConfusionMatrixDisplay(confusion_matrix=cm)\n",
    "    disp.plot()\n",
    "    plt.show()\n",
    "\n",
    "    return acc"
   ]
  },
  {
   "cell_type": "code",
   "execution_count": 21,
   "id": "b2a934e0",
   "metadata": {},
   "outputs": [
    {
     "name": "stdout",
     "output_type": "stream",
     "text": [
      "Model Accuracy: 0.7201\n"
     ]
    },
    {
     "data": {
      "image/png": "[encoded data removed]",
      "text/plain": [
       "<Figure size 800x300 with 2 Axes>"
      ]
     },
     "metadata": {},
     "output_type": "display_data"
    }
   ],
   "source": [
    "baseline_acc = eval_model(baseline_model, X_test, y_test)"
   ]
  },
  {
   "cell_type": "markdown",
   "id": "fd1aaafa",
   "metadata": {},
   "source": [
    "Con el objetivo de comparar modelos, se emplea a continuación el modelo \"dummy\" (modelo bobo), el cual ignora las características de etrada. Sirve como una referencia simple contra otros modelos más avanzados."
   ]
  },
  {
   "cell_type": "code",
   "execution_count": 18,
   "id": "94c862d4",
   "metadata": {},
   "outputs": [],
   "source": [
    "dummy = DummyClassifier()\n",
    "_ = dummy.fit(X_train, y_train)"
   ]
  },
  {
   "cell_type": "code",
   "execution_count": 13,
   "id": "b8c01931",
   "metadata": {},
   "outputs": [
    {
     "name": "stdout",
     "output_type": "stream",
     "text": [
      "Model Accuracy: 0.6007\n"
     ]
    },
    {
     "data": {
      "image/png": "[encoded data removed]",
      "text/plain": [
       "<Figure size 800x300 with 2 Axes>"
      ]
     },
     "metadata": {},
     "output_type": "display_data"
    }
   ],
   "source": [
    "dummy_acc = eval_model(dummy, X_test=X_test, y_test=y_test)"
   ]
  },
  {
   "cell_type": "markdown",
   "id": "a19939f9",
   "metadata": {},
   "source": [
    "#### Preprocesamiento básico\n",
    "Se aplicarán mapeos y relleno de valores nulos en columnas como Sex, Age y Fare."
   ]
  },
  {
   "cell_type": "code",
   "execution_count": 14,
   "id": "860f1722",
   "metadata": {},
   "outputs": [],
   "source": [
    "def basic_processing(df: pd.DataFrame) -> pd.DataFrame:\n",
    "\n",
    "    # Rellenando edades nulas con la MEDIANA\n",
    "    df[\"Age\"] = df[\"Age\"].fillna(df[\"Age\"].median())\n",
    "\n",
    "    # Rellenando tarifas nulas con la MEDIANA\n",
    "    df[\"Fare\"] = df[\"Fare\"].fillna(df[\"Fare\"].median())\n",
    "\n",
    "    # Mapear columna \"Sex\" a valores enteros\n",
    "    df[\"Sex\"] = df[\"Sex\"].map({\"female\":0,\"male\":1})\n",
    "\n",
    "    # rellena con el mas frecuente...\n",
    "    df[\"Embarked\"] = df[\"Embarked\"].fillna(\"S\")\n",
    "    df[\"Embarked\"] = df[\"Embarked\"].map({\"S\":0,\"Q\":1,\"C\":2})\n",
    "\n",
    "    return df"
   ]
  },
  {
   "cell_type": "code",
   "execution_count": 15,
   "id": "5d03d21c",
   "metadata": {},
   "outputs": [],
   "source": [
    "df_bp = basic_processing(df_train)"
   ]
  },
  {
   "cell_type": "code",
   "execution_count": 24,
   "id": "37a1939c",
   "metadata": {},
   "outputs": [
    {
     "name": "stdout",
     "output_type": "stream",
     "text": [
      "Model Accuracy: 0.8022\n"
     ]
    },
    {
     "data": {
      "image/png": "[encoded data removed]",
      "text/plain": [
       "<Figure size 800x300 with 2 Axes>"
      ]
     },
     "metadata": {},
     "output_type": "display_data"
    }
   ],
   "source": [
    "bp_features = [\n",
    "    \"Pclass\",\n",
    "    \"Age\",\n",
    "    \"Parch\",\n",
    "    \"SibSp\",\n",
    "    \"Fare\",\n",
    "    \"Sex\",\n",
    "    \"Embarked\"\n",
    "    ]\n",
    "\n",
    "X_bp,y_bp = df_bp[bp_features], df_bp[\"Survived\"]\n",
    "X_train_bp, X_test_bp, y_train_bp, y_test_bp = train_test_split(X_bp,y_bp, test_size=0.3)\n",
    "\n",
    "bp_model = RandomForestClassifier(n_estimators=150, max_depth=6)\n",
    "_ = bp_model.fit(X_train_bp, y_train_bp)\n",
    "\n",
    "y_pred = (bp_model.predict(X_test_bp) > 0.5).astype(int)\n",
    "acc = accuracy_score(y_test_bp, y_pred)\n",
    "\n",
    "bp_acc = eval_model(bp_model, X_test=X_test_bp, y_test=y_test_bp)"
   ]
  },
  {
   "cell_type": "code",
   "execution_count": 25,
   "id": "5d6b2204",
   "metadata": {},
   "outputs": [
    {
     "name": "stdout",
     "output_type": "stream",
     "text": [
      "Con este preprocesamiento básico se obtuvo una mejora del 8.21% en la precisión (Accuracy) del modelo para el conjunto de test.\n"
     ]
    }
   ],
   "source": [
    "diferencia = (bp_acc - baseline_acc)*100\n",
    "print(f\"Con este preprocesamiento básico se obtuvo una mejora del {diferencia:.2f}% en la precisión (Accuracy) del modelo para el conjunto de test.\")"
   ]
  },
  {
   "cell_type": "code",
   "execution_count": 27,
   "id": "856572c1",
   "metadata": {},
   "outputs": [
    {
     "data": {
      "image/png": "[encoded data removed]",
      "text/plain": [
       "<Figure size 800x300 with 1 Axes>"
      ]
     },
     "metadata": {},
     "output_type": "display_data"
    }
   ],
   "source": [
    "# importancia de las variables\n",
    "importances = bp_model.feature_importances_\n",
    "train_features = X_train_bp.columns\n",
    "# Mostrar como gráfico\n",
    "pd.Series(importances, index=train_features).sort_values(ascending=True).plot(kind='barh')\n",
    "plt.title('Importancia de características (según el modelo Random Forest)')\n",
    "plt.xlabel('Importancia')\n",
    "plt.tight_layout()\n",
    "plt.grid()\n",
    "plt.show()"
   ]
  }
 ],
 "metadata": {
  "kernelspec": {
   "display_name": ".venv",
   "language": "python",
   "name": "python3"
  },
  "language_info": {
   "codemirror_mode": {
    "name": "ipython",
    "version": 3
   },
   "file_extension": ".py",
   "mimetype": "text/x-python",
   "name": "python",
   "nbconvert_exporter": "python",
   "pygments_lexer": "ipython3",
   "version": "3.12.3"
  }
 },
 "nbformat": 4,
 "nbformat_minor": 5
}
